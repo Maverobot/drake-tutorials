{
 "cells": [
  {
   "cell_type": "markdown",
   "id": "37456b1f-f3f1-4ff2-8dbe-d5d02ffb20e8",
   "metadata": {},
   "source": [
    "# MathematicalProgram Tutorial\n",
    "For instructions on how to run these tutorial notebooks, please see the [README](https://github.com/RobotLocomotion/drake/blob/master/tutorials/README.md).\n"
   ]
  },
  {
   "cell_type": "markdown",
   "id": "ae10bda0-a66d-47c8-9212-b442687b22fd",
   "metadata": {},
   "source": [
    "## Background\n",
    "Many engineering problems can be formulated as mathematical optimization problems, and solved by numerical solvers. A generic mathematical optimization problem can be formulated as\n",
    "$\\begin{aligned}\n",
    "\\begin{array}{rl}\n",
    "                       \\min_x \\;  &  f(x)\n",
    "   \\\\\\text{subject to}  \\;  &  x \\in\\mathcal{S}\n",
    "   \\end{array}\n",
    "   \\qquad\n",
    "   \\boxed{\n",
    "         \\begin{array}{ll}\n",
    "      \\text{The real-valued decision variable is}       &x\\\\\n",
    "      \\text{The real-valued cost function is}           &f(x)\\\\\n",
    "      \\text{The constraint set is}                      &\\mathcal{S}\\\\\n",
    "      \\text{The optimal } x \\text{ that minimizes the cost function is}  &x^*\n",
    "      \\end{array}\n",
    "      }\n",
    "\\end{aligned}$\n",
    "\n",
    "where $x$ is the real-valued decision variable(s), $f(x)$ is the real-valued *cost function*, $\\mathcal{S}$ is the constraint set for $x$. Our goal is to find the optimal $x^*$ within the constraint set $\\mathcal{S}$, such that $x^*$ minimizes the cost function $f(x)$.\n",
    "\n",
    "For example, the following optimization problem determines the value of $x$ \n",
    "that minimizes $x^3 + 2x + 1$ subject to $x \\ge 1$.\n",
    "$\\begin{aligned}\n",
    "\\begin{array}{rl}\n",
    "\\min_x\\;&x^3 + 2x + 1\\\\\n",
    "\\text{subject to}\\;\\;&x \\ge 1\n",
    "\\end{array}\n",
    "\\quad\n",
    "\\boxed{\n",
    "      \\begin{array}{ll}\n",
    "          \\text{The real-valued decision variable is}         &  x\\\\\n",
    "          \\text{The real-valued cost function }f(x) \\text{ is} &  x^3 + 2x + 1\\\\\n",
    "          \\text{The set }\\mathcal{S} \\text{ of constraints is}      &  x \\ge 1\\\\\n",
    "          \\text{The value that minimizes the cost function is}    &  x^* = 1\n",
    "   \\end{array}\n",
    "}\n",
    "\\end{aligned}$\n",
    "\n",
    "In general, how an optimization problem is solved depends on its categorization (categories include Linear Programming, Quadratic Programming, Mixed-integer Programming, etc.). Categorization depends on properties of both the cost function $f(x)$ and the constraint set $\\mathcal{S}$. For example, if the cost function $f(x)$ is a linear function of $x$, and the constraint $\\mathcal{S}$ is a linear set $\\mathcal{S} = \\{x | Ax\\le b\\}$, then we have a *linear programming* problem, which is efficiently solved with certain solvers. \n",
    "\n",
    "There are multiple solvers for each category of optimization problems,\n",
    "but each solver has its own API and data structures.\n",
    "Frequently, users need to rewrite code when they switch solvers.\n",
    "To remedy this, Drake provides a common API through the *MathematicalProgram* class.\n",
    "In addition to avoiding solver-specific code,\n",
    "the constraint and cost functions can be written in symbolic form (which makes code more readable).\n",
    "In these ways, Drake's MathematicalProgram is akin to [YALMIP](https://yalmip.github.io/) in MATLAB or [JuMP](https://github.com/JuliaOpt/JuMP.jl) in Julia, and we support both Python and C++.\n",
    "<br> Note: Drake supports many [solvers](https://drake.mit.edu/doxygen_cxx/group__solvers.html)\n",
    "(some are open-source and some require a license).\n",
    "\n",
    "Drake can formulate and solve the following categories of optimization problems\n",
    "* Linear programming\n",
    "* Quadratic programming\n",
    "* Second-order cone programming\n",
    "* Nonlinear nonconvex programming\n",
    "* Semidefinite programming\n",
    "* Sum-of-squares programming\n",
    "* Mixed-integer programming (mixed-integer linear programming, mixed-integer quadratic programming, mixed-integer second-order cone programming).\n",
    "* Linear complementarity problem\n",
    "\n",
    "This tutorial provides the basics of Drake's MathematicalProgram.\n",
    "Advanced tutorials are available at the [bottom](#Advanced-tutorials) of this document.\n"
   ]
  },
  {
   "cell_type": "markdown",
   "id": "af064f07-07ff-4309-923a-161c11568324",
   "metadata": {},
   "source": [
    "## Install drake C++ library\n",
    "\n",
    "Run the following in a terminal:\n",
    "\n",
    "```sh\n",
    "tarball_name=\"drake-20220328-$(lsb_release -cs).tar.gz\"\n",
    "wget https://github.com/RobotLocomotion/drake/releases/download/v1.1.0/${tarball_name}\n",
    "mkdir .drake && tar -xvzf ${tarball_name} -C ./.drake\n",
    "```"
   ]
  },
  {
   "cell_type": "code",
   "execution_count": 1,
   "id": "203e1612-efbb-4ad0-8547-ec133e2733c3",
   "metadata": {},
   "outputs": [],
   "source": [
    "// include\n",
    "#pragma cling add_include_path(\".drake/drake/include\")\n",
    "#pragma cling add_include_path(\".drake/drake/include/drake_lcmtypes\")\n",
    "#pragma cling add_include_path(\".drake/drake/include/lcm\")\n",
    "#pragma cling add_include_path(\".drake/drake/include/fmt\")\n",
    "#pragma cling add_include_path(\".drake/drake/include/lcmtypes\")\n",
    "#pragma cling add_include_path(\"/usr/include/eigen3\")\n",
    "\n",
    "// lib\n",
    "#pragma cling add_library_path(\".drake/drake/lib\")\n",
    "#pragma cling load(\"drake\")"
   ]
  },
  {
   "cell_type": "markdown",
   "id": "768c9bbd-98e3-4ab1-8586-53226856c8ed",
   "metadata": {},
   "source": [
    "## Basics of MathematicalProgram class\n",
    "Drake's MathematicalProgram class contains the mathematical formulation of an optimization problem, namely the decision variables $x$, the cost function $f(x)$, and the constraint set $\\mathcal{S}$."
   ]
  },
  {
   "cell_type": "markdown",
   "id": "5d5c92ef-a99c-4d60-b343-b7e729356a0a",
   "metadata": {},
   "source": [
    "### Initialize a MathematicalProgram object\n",
    "\n",
    " To initialize this class, first create an empty MathematicalProgram as"
   ]
  },
  {
   "cell_type": "code",
   "execution_count": null,
   "id": "75f10be4-6e09-4aef-ba27-a9215dfabfcc",
   "metadata": {
    "tags": []
   },
   "outputs": [],
   "source": [
    "#include \"drake/solvers/mathematical_program.h\""
   ]
  }
 ],
 "metadata": {
  "kernelspec": {
   "display_name": "C++17",
   "language": "C++17",
   "name": "xcpp17"
  },
  "language_info": {
   "codemirror_mode": "text/x-c++src",
   "file_extension": ".cpp",
   "mimetype": "text/x-c++src",
   "name": "c++",
   "version": "17"
  }
 },
 "nbformat": 4,
 "nbformat_minor": 5
}
